{
 "cells": [
  {
   "cell_type": "markdown",
   "metadata": {},
   "source": [
    "# Imports"
   ]
  },
  {
   "cell_type": "code",
   "execution_count": null,
   "metadata": {},
   "outputs": [],
   "source": [
    "import pathlib\n",
    "\n",
    "from matplotlib import pyplot as plt\n",
    "import pandas as pd\n",
    "import numpy as np\n",
    "import xarray as xr\n",
    "# another slighly odd dependency\n",
    "import lmfit\n",
    "\n",
    "fig_dir = pathlib.Path(\"figures\")\n",
    "data_dir = pathlib.Path(\"data\")\n",
    "\n",
    "file_format = 'nc'"
   ]
  },
  {
   "cell_type": "markdown",
   "metadata": {},
   "source": [
    "# Matplotlib stylesheet"
   ]
  },
  {
   "cell_type": "code",
   "execution_count": null,
   "metadata": {},
   "outputs": [],
   "source": [
    "plt.style.use('physrev.mplstyle')"
   ]
  },
  {
   "cell_type": "markdown",
   "metadata": {},
   "source": [
    "# Load dataset from CSV\n",
    "\n",
    "We have to manually extract the calibration points according to our schema"
   ]
  },
  {
   "cell_type": "code",
   "execution_count": null,
   "metadata": {},
   "outputs": [],
   "source": [
    "if file_format == 'csv':\n",
    "    dataframe = pd.read_csv(data_dir / 'P_one_vs_time.csv')\n",
    "    \n",
    "    csv_signal = dataframe[\"U [V]\"].to_numpy()\n",
    "    csv_time = dataframe[\"time [us]\"].to_numpy()\n",
    "\n",
    "    # determine number of callibration points from nan time count\n",
    "    n_calib_total = np.sum(np.isnan(csv_time))\n",
    "    assert n_calib_total % 2 == 0\n",
    "    n_calib = n_calib_total // 2\n",
    "    assert n_calib\n",
    "    \n",
    "    raw_signal = csv_signal[:-n_calib_total]\n",
    "    times = csv_time[:-n_calib_total]\n",
    "    cal_one = csv_signal[-n_calib:]\n",
    "    cal_zero = csv_signal[-n_calib_total:-n_calib]\n",
    "\n",
    "    print(dataframe)\n",
    "    \n",
    "    assert np.all(np.isfinite(times))"
   ]
  },
  {
   "cell_type": "markdown",
   "metadata": {},
   "source": [
    "# Load data from netCDF"
   ]
  },
  {
   "cell_type": "code",
   "execution_count": null,
   "metadata": {},
   "outputs": [],
   "source": [
    "if file_format == 'nc':\n",
    "    dataset = xr.load_dataset(data_dir / 'P_one_vs_time.nc')\n",
    "\n",
    "    nc_times = dataset['time [us]']\n",
    "    nc_signal = dataset['U [V]']\n",
    "    cal_one = nc_signal.attrs['calib_1 [V]']\n",
    "    cal_zero = nc_signal.attrs['calib_0 [V]']\n",
    "\n",
    "    # the rest of the code requires plain numpy arrays\n",
    "    raw_signal = nc_signal.to_numpy()\n",
    "    times = nc_times.to_numpy()\n",
    "    \n",
    "    print(dataset)\n",
    "    print(dataset.attrs)"
   ]
  },
  {
   "cell_type": "markdown",
   "metadata": {},
   "source": [
    "# Callibrate"
   ]
  },
  {
   "cell_type": "code",
   "execution_count": null,
   "metadata": {},
   "outputs": [],
   "source": [
    "offset = np.mean(cal_zero)\n",
    "scale = np.mean(cal_one) - offset\n",
    "\n",
    "P_one = (raw_signal-offset)/scale"
   ]
  },
  {
   "cell_type": "markdown",
   "metadata": {},
   "source": [
    "# Fit dataset with lmfit\n",
    "\n",
    "This would transparently show the data analysis such that people can see you did your fits correctly"
   ]
  },
  {
   "cell_type": "code",
   "execution_count": null,
   "metadata": {},
   "outputs": [],
   "source": [
    "def exp_damp_osc_func(\n",
    "    t: float,\n",
    "    tau: float,\n",
    "    n_factor: float,\n",
    "    frequency: float,\n",
    "    phase: float,\n",
    "    amplitude: float,\n",
    "    offset: float,\n",
    "):\n",
    "    r\"\"\"\n",
    "    A sinusoidal oscillation with an exponentially decaying envelope function:\n",
    "\n",
    "    :math:`y = \\mathrm{amplitude} \\times \\exp\\left(-(t/\\tau)^\\mathrm{n\\_factor}\\right)(\\cos(2\\pi\\mathrm{frequency}\\times t + \\mathrm{phase}) + \\mathrm{oscillation_offset}) + \\mathrm{exponential_offset}`\n",
    "\n",
    "    Parameters\n",
    "    ----------\n",
    "    t:\n",
    "        time\n",
    "    tau:\n",
    "        decay time\n",
    "    n_factor:\n",
    "        exponential decay factor\n",
    "    frequency:\n",
    "        frequency of the oscillation\n",
    "    phase:\n",
    "        phase of the oscillation\n",
    "    amplitude:\n",
    "        initial amplitude of the oscillation\n",
    "    oscillation_offset:\n",
    "        vertical offset of cosine oscillation relative to exponential asymptote\n",
    "    exponential_offset:\n",
    "        offset of exponential asymptote\n",
    "\n",
    "    Returns\n",
    "    -------\n",
    "    :\n",
    "        Output of decaying cosine function as a float\n",
    "    \"\"\"  \n",
    "    \n",
    "    oscillation = amplitude * (np.cos(2 * np.pi * frequency * t + phase))\n",
    "    exp_decay = np.exp(-((t / tau) ** n_factor))\n",
    "    osc_decay = oscillation * exp_decay + offset\n",
    "    return osc_decay\n",
    "\n",
    "def fft_freq_phase_guess(data: np.ndarray, t: np.ndarray):\n",
    "    \"\"\"\n",
    "    Guess for a cosine fit using FFT, only works for evenly spaced points.\n",
    "\n",
    "    Parameters\n",
    "    ----------\n",
    "    data:\n",
    "        Input data to FFT\n",
    "    t:\n",
    "        Independent variable (e.g. time)\n",
    "\n",
    "    Returns\n",
    "    -------\n",
    "    freq_guess:\n",
    "        Guess for the frequency of the cosine function\n",
    "    ph_guess:\n",
    "        Guess for the phase of the cosine function\n",
    "    \"\"\"\n",
    "\n",
    "    # Only first half of array is used, because the second half contains the\n",
    "    # negative frequecy components, and we want a positive frequency.\n",
    "    power = np.fft.fft(data)[: len(data) // 2]\n",
    "    freq = np.fft.fftfreq(len(data), t[1] - t[0])[: len(power)]\n",
    "    power[0] = 0  # Removes DC component from fourier transform\n",
    "\n",
    "    # Use absolute value of complex valued spectrum\n",
    "    abs_power = np.abs(power)\n",
    "    freq_guess = abs(freq[abs_power == max(abs_power)][0])\n",
    "    # the condition data == max(data) can have several solutions\n",
    "    #               (for example when discretization is visible)\n",
    "    # to prevent errors we pick the first solution\n",
    "    ph_guess = 2 * np.pi - (2 * np.pi * t[data == max(data)] * freq_guess)[0]\n",
    "\n",
    "    return freq_guess, ph_guess\n",
    "\n",
    "class DecayOscillationModel(lmfit.model.Model):\n",
    "    r\"\"\"\n",
    "    Model for a decaying oscillation which decays to a point with 0 offset from\n",
    "    the centre of the of the oscillation (as in a Ramsey experiment, for example).\n",
    "    \"\"\"\n",
    "\n",
    "    def __init__(self, *args, **kwargs):\n",
    "        # pass in the defining equation so the user doesn't have to later.\n",
    "        super().__init__(exp_damp_osc_func, *args, **kwargs)\n",
    "\n",
    "        # Enforce oscillation frequency is positive\n",
    "        self.set_param_hint(\"frequency\", min=0)\n",
    "        # Enforce amplitude is positive\n",
    "        self.set_param_hint(\"amplitude\", min=0)\n",
    "        # Enforce decay time is positive\n",
    "        self.set_param_hint(\"tau\", min=0)\n",
    "\n",
    "        # Fix the n_factor at 1\n",
    "        self.set_param_hint(\"n_factor\", expr=\"1\", vary=False)\n",
    "\n",
    "    def guess(self, data, **kws) -> lmfit.parameter.Parameters:\n",
    "        t = kws.get(\"t\", None)\n",
    "        if t is None:\n",
    "            raise ValueError(\n",
    "                'Time variable \"t\" must be specified in order to guess parameters'\n",
    "            )\n",
    "            return None\n",
    "\n",
    "        amp_guess = abs(max(data) - min(data)) / 2  # amp is positive by convention\n",
    "        exp_offs_guess = np.mean(data)\n",
    "        tau_guess = 2 / 3 * np.max(t)\n",
    "\n",
    "        (freq_guess, phase_guess) = fft_freq_phase_guess(data, t)\n",
    "\n",
    "        self.set_param_hint(\"frequency\", value=freq_guess, min=0)\n",
    "        self.set_param_hint(\"amplitude\", value=amp_guess, min=0)\n",
    "        self.set_param_hint(\"offset\", value=exp_offs_guess)\n",
    "        self.set_param_hint(\"phase\", value=phase_guess)\n",
    "        self.set_param_hint(\"tau\", value=tau_guess, min=0)\n",
    "\n",
    "        params = self.make_params()\n",
    "        return lmfit.models.update_param_vals(params, self.prefix, **kws)\n",
    "\n"
   ]
  },
  {
   "cell_type": "code",
   "execution_count": null,
   "metadata": {},
   "outputs": [],
   "source": [
    "model = DecayOscillationModel()\n",
    "\n",
    "guess_pars = model.guess(P_one, t=times)\n",
    "\n",
    "fit_result = model.fit(P_one, params=guess_pars, t=times)"
   ]
  },
  {
   "cell_type": "code",
   "execution_count": null,
   "metadata": {},
   "outputs": [],
   "source": [
    "print(fit_result.fit_report())"
   ]
  },
  {
   "cell_type": "markdown",
   "metadata": {},
   "source": [
    "# Create Figure 1"
   ]
  },
  {
   "cell_type": "code",
   "execution_count": null,
   "metadata": {},
   "outputs": [],
   "source": [
    "\n",
    "\n",
    "fig, ax = plt.subplots(figsize=(3.375, 2))\n",
    "\n",
    "ax.plot(times, P_one, \".\", label=\"data\", markersize=3, color=\"royalblue\")\n",
    "ax.plot(times, fit_result.best_fit, \"-\", label=\"fit\", color=\"cornflowerblue\")\n",
    "\n",
    "plt.legend(frameon=False)\n",
    "plt.xlabel(r't ($\\mathrm{\\mu}$s)')\n",
    "plt.ylabel('$P_1$')\n",
    "\n",
    "fig_dir.mkdir(exist_ok=True)\n",
    "plt.savefig(fig_dir / \"fig1.pdf\")"
   ]
  },
  {
   "cell_type": "code",
   "execution_count": null,
   "metadata": {},
   "outputs": [],
   "source": []
  }
 ],
 "metadata": {
  "kernelspec": {
   "display_name": "ML4Q",
   "language": "python",
   "name": "ml4qws1"
  },
  "language_info": {
   "codemirror_mode": {
    "name": "ipython",
    "version": 3
   },
   "file_extension": ".py",
   "mimetype": "text/x-python",
   "name": "python",
   "nbconvert_exporter": "python",
   "pygments_lexer": "ipython3",
   "version": "3.11.2"
  }
 },
 "nbformat": 4,
 "nbformat_minor": 4
}
