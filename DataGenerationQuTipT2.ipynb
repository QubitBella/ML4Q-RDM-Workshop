{
 "cells": [
  {
   "cell_type": "markdown",
   "metadata": {},
   "source": [
    "# Data generation\n",
    "\n",
    "This notebook simulates some kind of T2* Ramsey characterization although we ommited the pulsing for simplicity.\n",
    "\n",
    "## Imports"
   ]
  },
  {
   "cell_type": "code",
   "execution_count": null,
   "metadata": {},
   "outputs": [],
   "source": [
    "import pathlib\n",
    "\n",
    "import numpy as np\n",
    "import pandas as pd\n",
    "import xarray as xr\n",
    "\n",
    "# mostly tuse qutip o add more complex dependencies \n",
    "# It's not a necessity to do the ramsey experiment \n",
    "from qutip import mesolve, Options, basis, sigmax, sigmay, sigmaz, Qobj\n",
    "\n",
    "from matplotlib import pyplot as plt\n",
    "\n",
    "data_dir = pathlib.Path(\"data\")\n",
    "data_dir.mkdir(exist_ok=True)"
   ]
  },
  {
   "cell_type": "markdown",
   "metadata": {},
   "source": [
    "# Create T2 Dataset with noise"
   ]
  },
  {
   "cell_type": "code",
   "execution_count": null,
   "metadata": {},
   "outputs": [],
   "source": [
    "n_calib = 5\n",
    "times = np.linspace(0.0, 25.0, 250)\n",
    "\n",
    "# system properties\n",
    "detuning = 0.2\n",
    "T2 = 5\n",
    "offset = 0.2\n",
    "scale = 0.5\n",
    "noise_sigma = 0.02\n",
    "rng = np.random.default_rng(seed=42)\n",
    "\n",
    "hadamard = 1 / np.sqrt(2.0) * Qobj([[1, 1],\n",
    "                                    [1, -1]])\n",
    "\n",
    "psi0 = basis(2, 0)\n",
    "# initialize to Hadamard |0> = |+> = |0> + |1>\n",
    "psi_plus = hadamard @ psi0\n",
    "\n",
    "# hamiltonian\n",
    "H = 2*np.pi * detuning * sigmaz()\n",
    "\n",
    "# meas operator\n",
    "e_op = psi_plus @ psi_plus.dag()\n",
    "\n",
    "result = mesolve(H, psi_plus, times,\n",
    "                 # collapse operator \n",
    "                 c_ops=[np.sqrt(1/T2) * sigmax()],\n",
    "                 # operator for expectation value\n",
    "                 e_ops=[e_op])\n",
    "\n",
    "# Get probability data.\n",
    "P_1, = result.expect\n",
    "\n",
    "# add calibration points\n",
    "clean_signal = P_1 * scale + offset\n",
    "clean_calib_0 = np.ones(n_calib) * offset\n",
    "clean_calib_1 = offset + scale * np.ones(n_calib)\n",
    "\n",
    "# add white noise\n",
    "raw_signal = clean_signal + rng.normal(0, noise_sigma, clean_signal.size)\n",
    "calib_0 = clean_calib_0 + rng.normal(0, noise_sigma, clean_calib_0.size)\n",
    "calib_1 = clean_calib_1 + rng.normal(0, noise_sigma, clean_calib_1.size)"
   ]
  },
  {
   "cell_type": "code",
   "execution_count": null,
   "metadata": {},
   "outputs": [],
   "source": [
    "# plot signal and calibration for debugging\n",
    "\n",
    "fig, ax = plt.subplots()\n",
    "ax.plot(times, raw_signal, \".\", label=\"Signal\")\n",
    "plt.xlabel('t ($\\mathrm{\\mu}$s)')\n",
    "plt.ylabel('$U (V)$')\n",
    "\n",
    "ax.plot(calib_1, \".\", label=\"Calibration 1\")\n",
    "ax.plot(calib_0, \".\", label=\"Calibration 0\")\n",
    "plt.legend()"
   ]
  },
  {
   "cell_type": "markdown",
   "metadata": {},
   "source": [
    "# Save csv file via pandas\n",
    "\n",
    "CSV does not allow attaching metadata so we would need to hack our calibration into the file or create a separate one."
   ]
  },
  {
   "cell_type": "code",
   "execution_count": null,
   "metadata": {},
   "outputs": [],
   "source": [
    "dataframe = pd.DataFrame()\n",
    "\n",
    "csv_times = np.concatenate([times, np.full(10, np.nan)])\n",
    "csv_U = np.concatenate([raw_signal, calib_1, calib_0])\n",
    "\n",
    "dataframe['time [us]'] = csv_times\n",
    "dataframe['U [V]'] = csv_U\n",
    "\n",
    "dataframe.to_csv(data_dir/ 'P_one_vs_time.csv', encoding='utf-8', header=True, index=False)\n"
   ]
  },
  {
   "cell_type": "markdown",
   "metadata": {},
   "source": [
    "# Save to netCDF via xarray"
   ]
  },
  {
   "cell_type": "code",
   "execution_count": null,
   "metadata": {},
   "outputs": [],
   "source": [
    "nc_U = xr.Variable(\n",
    "    data=raw_signal,\n",
    "    dims=('time [us]',),\n",
    "    attrs={\n",
    "        'calib_1 [V]': calib_1,\n",
    "        'calib_0 [V]': calib_0,\n",
    "    }\n",
    ")\n",
    "\n",
    "dataset = xr.Dataset(\n",
    "    {\n",
    "        'U [V]': nc_U\n",
    "    },\n",
    "    coords={'time [us]': times},\n",
    "    attrs={\n",
    "        'comment': \"Ramsey T2* experiment. Each voltage curve has callibration measurements for 0 and 1 probability.\"\n",
    "    }\n",
    ")\n",
    "\n",
    "dataset.to_netcdf(data_dir / 'P_one_vs_time.nc')"
   ]
  },
  {
   "cell_type": "code",
   "execution_count": null,
   "metadata": {},
   "outputs": [],
   "source": []
  }
 ],
 "metadata": {
  "kernelspec": {
   "display_name": "ML4Q",
   "language": "python",
   "name": "python3"
  },
  "language_info": {
   "codemirror_mode": {
    "name": "ipython",
    "version": 3
   },
   "file_extension": ".py",
   "mimetype": "text/x-python",
   "name": "python",
   "nbconvert_exporter": "python",
   "pygments_lexer": "ipython3",
   "version": "3.10.11"
  }
 },
 "nbformat": 4,
 "nbformat_minor": 4
}
